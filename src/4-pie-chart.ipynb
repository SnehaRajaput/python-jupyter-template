{
 "cells": [
  {
   "cell_type": "markdown",
   "metadata": {},
   "source": [
    "### Exercise 4: Pie Chart with Percentages"
   ]
  },
  {
   "cell_type": "code",
   "execution_count": null,
   "metadata": {},
   "outputs": [],
   "source": [
    "import matplotlib.pyplot as plt\n",
    "\n",
    "# Data\n",
    "labels = ['Python', 'Java', 'C++', 'JavaScript']\n",
    "sizes = [40, 25, 20, 15]\n",
    "\n",
    "# Error handling: Check if sizes and labels match in length\n",
    "if len(labels) != len(sizes):\n",
    "    raise ValueError(\"The number of labels and sizes must be the same.\")\n",
    "\n",
    "# Check if sizes contain valid numeric values\n",
    "if not all(isinstance(i, (int, float)) for i in sizes):\n",
    "    raise ValueError(\"All sizes must be numeric values.\")\n",
    "\n",
    "# Check if sizes contain non-negative values\n",
    "if any(i < 0 for i in sizes):\n",
    "    raise ValueError(\"Sizes must be non-negative.\")\n",
    "\n",
    "# Create a pie chart\n",
    "plt.pie(sizes, labels=labels, autopct='%1.1f%%')\n",
    "\n",
    "# Title\n",
    "plt.title('Languages Pie Chart')\n",
    "\n",
    "# Show the plot\n"
   ]
  }
 ],
 "metadata": {
  "language_info": {
   "name": "python"
  }
 },
 "nbformat": 4,
 "nbformat_minor": 2
}
