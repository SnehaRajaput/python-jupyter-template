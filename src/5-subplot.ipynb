{
 "cells": [
  {
   "cell_type": "markdown",
   "metadata": {},
   "source": [
    "### Exercise 5: Subplot Layout"
   ]
  },
  {
   "cell_type": "code",
   "execution_count": null,
   "metadata": {},
   "outputs": [],
   "source": [
    "import matplotlib.pyplot as plt\n",
    "\n",
    "# Data\n",
    "x = [0, 1, 2, 3, 4]\n",
    "y = [0, 1, 4, 9, 16]\n",
    "categories = ['A', 'B', 'C', 'D']\n",
    "values = [5, 3, 9, 6]\n",
    "labels = ['Apple', 'Banana', 'Cherry', 'Date']\n",
    "sizes = [10, 15, 7, 5]\n",
    "\n",
    "# Error handling: Check if x and y have the same length\n",
    "if len(x) != len(y):\n",
    "    raise ValueError(\"The lengths of x and y must be the same for the plot.\")\n",
    "\n",
    "# Check if categories and values have the same length\n",
    "if len(categories) != len(values):\n",
    "    raise ValueError(\"The number of categories and values must be the same for the bar plot.\")\n",
    "\n",
    "# Check if labels and sizes have the same length\n",
    "if len(labels) != len(sizes):\n",
    "    raise ValueError(\"The number of labels and sizes must be the same for the pie chart.\")\n",
    "\n",
    "# Check if all values in 'y', 'values', and 'sizes' are numeric\n",
    "if not all(isinstance(i, (int, float)) for i in y + values + sizes):\n",
    "    raise ValueError(\"All values in y, values, and sizes must be numeric.\")\n",
    "\n",
    "# Check if all values are non-negative where applicable (e.g., bar and pie chart sizes)\n",
    "if any(i < 0 for i in values + sizes):\n",
    "    raise ValueError(\"Values and sizes must be non-negative.\")\n",
    "\n",
    "# Create a 2x2 grid of subplots\n",
    "fig, axs = plt.subplots(2, 2, figsize=(10, 10))\n",
    "\n",
    "# First subplot: Line plot\n",
    "axs[0, 0].plot(x, y)\n",
    "axs[0, 0].set_title('Line Plot')\n",
    "\n",
    "# Second subplot: Bar plot\n",
    "axs[0, 1].bar(categories, values)\n",
    "axs[0, 1].set_title('Bar Plot')\n",
    "\n",
    "# Third subplot: Scatter plot\n",
    "axs[1, 0].scatter(x, y)\n",
    "axs[1, 0].set_title('Scatter Plot')\n",
    "\n",
    "# Fourth subplot: Pie chart\n",
    "axs[1, 1].pie(sizes, labels=labels, autopct='%1.1f%%')\n",
    "axs[1, 1].set_title('Pie Chart')\n",
    "\n",
    "# Show the plots"
   ]
  }
 ],
 "metadata": {
  "language_info": {
   "name": "python"
  }
 },
 "nbformat": 4,
 "nbformat_minor": 2
}
